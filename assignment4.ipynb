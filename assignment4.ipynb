{
 "cells": [
  {
   "cell_type": "code",
   "execution_count": null,
   "id": "4d9adb85",
   "metadata": {},
   "outputs": [],
   "source": [
    "Write a Python program to create a lambda function that adds 25 to a given number \n",
    "passed in as an argument.\n",
    "\n",
    "sample input: 10\n",
    "\n",
    "sample output: 35"
   ]
  },
  {
   "cell_type": "code",
   "execution_count": 4,
   "id": "763860aa",
   "metadata": {},
   "outputs": [
    {
     "name": "stdout",
     "output_type": "stream",
     "text": [
      "enter the number10\n",
      "35\n"
     ]
    }
   ],
   "source": [
    "add = lambda n : n + 25\n",
    "print(add(int(input(\"enter the number\"))))"
   ]
  },
  {
   "cell_type": "code",
   "execution_count": null,
   "id": "32518f50",
   "metadata": {},
   "outputs": [],
   "source": [
    "Write a Python program to triple all numbers of a given list of integers. Use Python map.\n",
    "\n",
    "sample list: [1, 2, 3, 4, 5, 6, 7]\n",
    "\n",
    "Triple of list numbers:\n",
    "\n",
    "[3, 6, 9, 12, 15, 18, 21]"
   ]
  },
  {
   "cell_type": "code",
   "execution_count": 5,
   "id": "31a0ced4",
   "metadata": {},
   "outputs": [
    {
     "name": "stdout",
     "output_type": "stream",
     "text": [
      "enter the list of integers : 1 2 3 \n",
      "tripled num list [3, 6, 9]\n"
     ]
    }
   ],
   "source": [
    "num=list(map(int,input(\"enter the list of integers : \").split()))\n",
    "print(\"tripled num list\",list(map(lambda i:i*3,num)))"
   ]
  },
  {
   "cell_type": "code",
   "execution_count": null,
   "id": "fbc5cc42",
   "metadata": {},
   "outputs": [],
   "source": [
    "Write a Python program to square the elements of a list using map() function.\n",
    "\n",
    "Sample List: [4, 5, 2, 9]\n",
    "\n",
    "Square the elements of the list:\n",
    "\n",
    "[16, 25, 4, 81]"
   ]
  },
  {
   "cell_type": "code",
   "execution_count": 7,
   "id": "0774f4bb",
   "metadata": {},
   "outputs": [
    {
     "name": "stdout",
     "output_type": "stream",
     "text": [
      "enter the original list4 5 2\n",
      "squared list :  [16, 25, 4]\n"
     ]
    }
   ],
   "source": [
    "def squa(i):\n",
    "    return i**2\n",
    "l=list(map(int,input(\"enter the original list\").split(' ')))\n",
    "print(\"squared list : \",list(map(squa,l)))"
   ]
  },
  {
   "cell_type": "code",
   "execution_count": null,
   "id": "7716402d",
   "metadata": {},
   "outputs": [],
   "source": []
  }
 ],
 "metadata": {
  "kernelspec": {
   "display_name": "Python 3",
   "language": "python",
   "name": "python3"
  },
  "language_info": {
   "codemirror_mode": {
    "name": "ipython",
    "version": 3
   },
   "file_extension": ".py",
   "mimetype": "text/x-python",
   "name": "python",
   "nbconvert_exporter": "python",
   "pygments_lexer": "ipython3",
   "version": "3.9.5"
  }
 },
 "nbformat": 4,
 "nbformat_minor": 5
}
